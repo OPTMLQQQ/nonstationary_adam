{
 "cells": [
  {
   "cell_type": "code",
   "execution_count": 1,
   "metadata": {},
   "outputs": [],
   "source": [
    "import torch\n",
    "import torch.optim as optim\n",
    "import numpy as np\n",
    "import random\n",
    "from collections import defaultdict\n",
    "import matplotlib.pyplot as plt\n",
    "import math\n",
    "import seaborn as sns"
   ]
  },
  {
   "cell_type": "code",
   "execution_count": 2,
   "metadata": {},
   "outputs": [],
   "source": [
    "# create list of frequencies\n",
    "\n",
    "# class Env1(object):\n",
    "#     def __init__(self, T:int, omega:float, c:float, A:float):\n",
    "#         self.T = T\n",
    "#         self.omega = omega\n",
    "#         self.c = c\n",
    "#         self.eps = 10**-5\n",
    "#         self.t = 0\n",
    "        \n",
    "class Options:\n",
    "    \"\"\"Class containing all parameters\"\"\"\n",
    "    def __init__(self):\n",
    "        # Env params\n",
    "        self.T = 10\n",
    "        self.omega = []\n",
    "        self.c = 1\n",
    "        self.eps = 10**-5\n",
    "        self.A = 2\n",
    "        self.t = 0\n",
    "        self.lr = 1e-3\n",
    "        self.timesteps = 20\n",
    "        self.device = 'cuda' if torch.cuda.is_available() else 'cpu'\n",
    "        \n",
    "opt = Options()\n",
    "\n",
    "def f(x:torch.Tensor, t:int, omega:float):\n",
    "    return alpha(t,omega) * (x.pow(2))\n",
    "    \n",
    "def alpha(t:int, omega:torch.Tensor):\n",
    "    if t <= opt.T:\n",
    "        return opt.c\n",
    "    return (opt.A/2) * (1 + torch.sin(omega*t) + opt.eps)"
   ]
  },
  {
   "cell_type": "code",
   "execution_count": 3,
   "metadata": {},
   "outputs": [],
   "source": [
    "adam_deltas = defaultdict(list)\n",
    "sgd_deltas = defaultdict(list)\n",
    "omegas = [torch.Tensor([2])]\n",
    "\n",
    "for omega in omegas:\n",
    "    x_adam = torch.randn(1)\n",
    "    x_sgd = x_adam.clone()\n",
    "    x_adam.requires_grad_(True)\n",
    "    x_sgd.requires_grad_(True)\n",
    "    \n",
    "    adam_opt = optim.Adam([x_adam], lr=opt.lr)\n",
    "    sgd_opt = optim.SGD([x_sgd], lr=opt.lr)\n",
    "    \n",
    "    for t in range(opt.timesteps):\n",
    "        # Perform Adam and SGD steps\n",
    "        y_adam = f(x_adam, t, omega)\n",
    "        adam_opt.zero_grad()\n",
    "        y_adam.backward()\n",
    "        adam_opt.step()\n",
    "        \n",
    "        y_sgd = f(x_sgd, t, omega)\n",
    "        sgd_opt.zero_grad()\n",
    "        y_sgd.backward()\n",
    "        sgd_opt.step()\n",
    "        \n",
    "        # Append to results\n",
    "        adam_deltas[omega].append(x_adam.detach().item())\n",
    "        sgd_deltas[omega].append(x_sgd.detach().item())"
   ]
  },
  {
   "cell_type": "code",
   "execution_count": 4,
   "metadata": {},
   "outputs": [
    {
     "data": {
      "text/plain": [
       "defaultdict(list,\n",
       "            {tensor([2.]): [-0.8149407505989075,\n",
       "              -0.8139407634735107,\n",
       "              -0.8129408359527588,\n",
       "              -0.8119409680366516,\n",
       "              -0.810941219329834,\n",
       "              -0.8099415898323059,\n",
       "              -0.8089420795440674,\n",
       "              -0.8079427480697632,\n",
       "              -0.8069435954093933,\n",
       "              -0.8059446215629578,\n",
       "              -0.8049458861351013,\n",
       "              -0.8039478659629822,\n",
       "              -0.8030354380607605,\n",
       "              -0.8020815849304199,\n",
       "              -0.8011103272438049,\n",
       "              -0.8002287149429321,\n",
       "              -0.799306333065033,\n",
       "              -0.7983518838882446,\n",
       "              -0.7974835634231567,\n",
       "              -0.7965870499610901]})"
      ]
     },
     "execution_count": 4,
     "metadata": {},
     "output_type": "execute_result"
    }
   ],
   "source": [
    "adam_deltas"
   ]
  },
  {
   "cell_type": "code",
   "execution_count": 5,
   "metadata": {},
   "outputs": [
    {
     "data": {
      "text/plain": [
       "defaultdict(list,\n",
       "            {tensor([2.]): [-0.8143088817596436,\n",
       "              -0.8126802444458008,\n",
       "              -0.8110548853874207,\n",
       "              -0.8094328045845032,\n",
       "              -0.8078139424324036,\n",
       "              -0.8061982989311218,\n",
       "              -0.804585874080658,\n",
       "              -0.8029767274856567,\n",
       "              -0.8013707995414734,\n",
       "              -0.7997680306434631,\n",
       "              -0.7981684803962708,\n",
       "              -0.796586275100708,\n",
       "              -0.7964358329772949,\n",
       "              -0.7936282753944397,\n",
       "              -0.7916110157966614,\n",
       "              -0.7915920615196228,\n",
       "              -0.7891358733177185,\n",
       "              -0.7867225408554077,\n",
       "              -0.7867096066474915,\n",
       "              -0.7846698760986328]})"
      ]
     },
     "execution_count": 5,
     "metadata": {},
     "output_type": "execute_result"
    }
   ],
   "source": [
    "sgd_deltas"
   ]
  },
  {
   "cell_type": "code",
   "execution_count": 6,
   "metadata": {},
   "outputs": [
    {
     "data": {
      "image/png": "[encoded data removed]",
      "text/plain": [
       "<Figure size 432x288 with 1 Axes>"
      ]
     },
     "metadata": {
      "needs_background": "light"
     },
     "output_type": "display_data"
    }
   ],
   "source": [
    "import numpy as numpy\n",
    "import matplotlib as mpl\n",
    "import matplotlib.pyplot as plt\n",
    "\n",
    "x= numpy.array(adam_deltas[omega])\n",
    "y= numpy.array(sgd_deltas[omega])\n",
    "L=numpy.array(list(range(opt.timesteps)))\n",
    "plt.title('Result Analysis')\n",
    "plt.plot(L, x, color='green', label='adam')\n",
    "plt.plot(L, y, color='red', label='sgd')\n",
    "plt.axvline(opt.T, label='T')\n",
    "plt.legend() \n",
    "plt.xlabel('iteration times')\n",
    "plt.ylabel('||x-x*||')\n",
    "plt.show()"
   ]
  }
 ],
 "metadata": {
  "kernelspec": {
   "display_name": "Python [conda env:epfl-cs433]",
   "language": "python",
   "name": "conda-env-epfl-cs433-py"
  },
  "language_info": {
   "codemirror_mode": {
    "name": "ipython",
    "version": 3
   },
   "file_extension": ".py",
   "mimetype": "text/x-python",
   "name": "python",
   "nbconvert_exporter": "python",
   "pygments_lexer": "ipython3",
   "version": "3.8.5"
  }
 },
 "nbformat": 4,
 "nbformat_minor": 4
}
