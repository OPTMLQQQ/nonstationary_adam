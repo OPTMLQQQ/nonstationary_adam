{
 "cells": [
  {
   "cell_type": "code",
   "execution_count": 1,
   "metadata": {},
   "outputs": [],
   "source": [
    "import torch\n",
    "import torch.optim as optim\n",
    "import numpy as np\n",
    "import random\n",
    "from collections import defaultdict\n",
    "import matplotlib.pyplot as plt\n",
    "import math\n",
    "import seaborn as sns"
   ]
  },
  {
   "cell_type": "code",
   "execution_count": 4,
   "metadata": {},
   "outputs": [],
   "source": [
    "# create list of frequencies\n",
    "\n",
    "# class Env1(object):\n",
    "#     def __init__(self, T:int, omega:float, c:float, A:float):\n",
    "#         self.T = T\n",
    "#         self.omega = omega\n",
    "#         self.c = c\n",
    "#         self.eps = 10**-5\n",
    "#         self.t = 0\n",
    "        \n",
    "class Options:\n",
    "    \"\"\"Class containing all parameters\"\"\"\n",
    "    def __init__(self):\n",
    "        # Env params\n",
    "        self.T = 10\n",
    "        self.omega = []\n",
    "        self.c = 1\n",
    "        self.eps = 10**-5\n",
    "        self.A = 2\n",
    "        self.t = 0\n",
    "        self.lr = 1e-3\n",
    "        self.timesteps = 20\n",
    "        self.device = 'cuda' if torch.cuda.is_available() else 'cpu'\n",
    "        \n",
    "opt = Options()\n",
    "\n",
    "def f(x:torch.Tensor, t:int, omega:float):\n",
    "    return alpha(t,omega) * (x.pow(2))\n",
    "    \n",
    "def alpha(t:int, omega:torch.Tensor):\n",
    "    if t <= opt.T:\n",
    "        return opt.c\n",
    "    return (opt.A/2) * (1 + torch.sin(omega*t) + opt.eps)"
   ]
  },
  {
   "cell_type": "code",
   "execution_count": 18,
   "metadata": {},
   "outputs": [],
   "source": [
    "adam_deltas = defaultdict(list)\n",
    "sgd_deltas = defaultdict(list)\n",
    "omegas = [torch.Tensor([2])]\n",
    "\n",
    "for omega in omegas:\n",
    "    x_adam = torch.randn(1)\n",
    "    x_sgd = x_adam.clone()\n",
    "    x_adam.requires_grad_(True)\n",
    "    x_sgd.requires_grad_(True)\n",
    "    \n",
    "    adam_opt = optim.Adam([x_adam], lr=opt.lr)\n",
    "    sgd_opt = optim.SGD([x_sgd], lr=opt.lr)\n",
    "    \n",
    "    for t in range(opt.timesteps):\n",
    "        # Perform Adam and SGD steps\n",
    "        y_adam = f(x_adam, t, omega)\n",
    "        adam_opt.zero_grad()\n",
    "        y_adam.backward()\n",
    "        adam_opt.step()\n",
    "        \n",
    "        y_sgd = f(x_sgd, t, omega)\n",
    "        sgd_opt.zero_grad()\n",
    "        y_sgd.backward()\n",
    "        sgd_opt.step()\n",
    "        \n",
    "        # Append to results\n",
    "        adam_deltas[omega].append(x_adam.detach().item())\n",
    "        sgd_deltas[omega].append(x_sgd.detach().item())"
   ]
  },
  {
   "cell_type": "code",
   "execution_count": 19,
   "metadata": {},
   "outputs": [
    {
     "data": {
      "text/plain": [
       "defaultdict(list,\n",
       "            {tensor([2.]): [1.7721784114837646,\n",
       "              1.7711784839630127,\n",
       "              1.7701785564422607,\n",
       "              1.7691786289215088,\n",
       "              1.7681787014007568,\n",
       "              1.7671788930892944,\n",
       "              1.766179084777832,\n",
       "              1.7651793956756592,\n",
       "              1.7641798257827759,\n",
       "              1.7631802558898926,\n",
       "              1.7621808052062988,\n",
       "              1.7611819505691528,\n",
       "              1.7602686882019043,\n",
       "              1.7593140602111816,\n",
       "              1.758341908454895,\n",
       "              1.7574594020843506,\n",
       "              1.7565360069274902,\n",
       "              1.7555803060531616,\n",
       "              1.7547109127044678,\n",
       "              1.7538130283355713]})"
      ]
     },
     "execution_count": 19,
     "metadata": {},
     "output_type": "execute_result"
    }
   ],
   "source": [
    "adam_deltas"
   ]
  },
  {
   "cell_type": "code",
   "execution_count": 14,
   "metadata": {},
   "outputs": [
    {
     "data": {
      "text/plain": [
       "defaultdict(list,\n",
       "            {tensor([2.]): [-0.4028593599796295,\n",
       "              -0.4020536541938782,\n",
       "              -0.40124955773353577,\n",
       "              -0.4004470705986023,\n",
       "              -0.39964616298675537,\n",
       "              -0.3988468647003174,\n",
       "              -0.39804917573928833,\n",
       "              -0.3972530663013458,\n",
       "              -0.39645856618881226,\n",
       "              -0.39566564559936523,\n",
       "              -0.39487430453300476,\n",
       "              -0.39409154653549194,\n",
       "              -0.39401713013648987,\n",
       "              -0.39262816309928894,\n",
       "              -0.3916301727294922,\n",
       "              -0.39162078499794006,\n",
       "              -0.3904056251049042,\n",
       "              -0.3892116844654083,\n",
       "              -0.38920527696609497,\n",
       "              -0.3881961703300476]})"
      ]
     },
     "execution_count": 14,
     "metadata": {},
     "output_type": "execute_result"
    }
   ],
   "source": [
    "sgd_deltas"
   ]
  },
  {
   "cell_type": "code",
   "execution_count": null,
   "metadata": {},
   "outputs": [],
   "source": []
  }
 ],
 "metadata": {
  "kernelspec": {
   "display_name": "Python 3",
   "language": "python",
   "name": "python3"
  },
  "language_info": {
   "codemirror_mode": {
    "name": "ipython",
    "version": 3
   },
   "file_extension": ".py",
   "mimetype": "text/x-python",
   "name": "python",
   "nbconvert_exporter": "python",
   "pygments_lexer": "ipython3",
   "version": "3.6.13"
  }
 },
 "nbformat": 4,
 "nbformat_minor": 4
}
